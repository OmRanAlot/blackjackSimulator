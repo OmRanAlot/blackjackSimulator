{
 "cells": [
  {
   "cell_type": "code",
   "execution_count": 1,
   "id": "de2e8041",
   "metadata": {},
   "outputs": [],
   "source": [
    "import blackjack2 as bj\n",
    "import strategies as strats\n",
    "import pandas as pd\n",
    "decks = [4,5,6,7,8,9,10]\n",
    "results = []"
   ]
  },
  {
   "cell_type": "code",
   "execution_count": null,
   "id": "63a2fd23",
   "metadata": {},
   "outputs": [],
   "source": [
    "#Control group - three players with basic strategy and three players with control strategy\n",
    "for deck in decks:\n",
    "    print(f\"\\nStarting simulation with {deck} decks\")\n",
    "    players = [bj.Player(\"Basic Strategy1\", strategy=strats.BasicStrategyTables()),\n",
    "            bj.Player(\"Basic Strategy2\", strategy=strats.BasicStrategyTables()),\n",
    "            bj.Player(\"Basic Strategy3\", strategy=strats.BasicStrategyTables()),\n",
    "            bj.Player(\"Control1\", strategy=strats.BaseStrategy()),\n",
    "            bj.Player(\"Control2\", strategy=strats.BaseStrategy()),\n",
    "            bj.Player(\"Control3\", strategy=strats.BaseStrategy())]\n",
    "    blackjack = bj.Game(number_of_players=len(players), decks=deck, players=players)\n",
    "    for i in range(50000):\n",
    "        blackjack.play()\n",
    "        if i % 1000 == 0:  \n",
    "            print(f\"Deck {deck}: Completed {i:,} rounds...\")\n",
    "    \n",
    "    results.extend(blackjack.save_stats_to_array())\n",
    "\n",
    "pd.DataFrame(results).to_csv(\"results.csv\", index=False)"
   ]
  }
 ],
 "metadata": {
  "kernelspec": {
   "display_name": "Python 3",
   "language": "python",
   "name": "python3"
  },
  "language_info": {
   "codemirror_mode": {
    "name": "ipython",
    "version": 3
   },
   "file_extension": ".py",
   "mimetype": "text/x-python",
   "name": "python",
   "nbconvert_exporter": "python",
   "pygments_lexer": "ipython3",
   "version": "3.11.6"
  }
 },
 "nbformat": 4,
 "nbformat_minor": 5
}
